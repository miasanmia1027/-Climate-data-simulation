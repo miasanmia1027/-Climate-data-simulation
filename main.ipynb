{
 "cells": [
  {
   "cell_type": "code",
   "execution_count": null,
   "metadata": {},
   "outputs": [],
   "source": [
    "import pandas as pd"
   ]
  },
  {
   "cell_type": "code",
   "execution_count": 44,
   "metadata": {},
   "outputs": [],
   "source": [
    "climate_data = pd.read_csv(\"./data/동두천/20240101-20250101.csv\",encoding='euc-kr')"
   ]
  },
  {
   "cell_type": "code",
   "execution_count": 50,
   "metadata": {},
   "outputs": [
    {
     "data": {
      "text/plain": [
       "Index(['지점', '지점명', '일시', '기온(°C)', '강수량(mm)', '강수량 QC플래그', '풍속(m/s)',\n",
       "       '풍속 QC플래그', '풍향(16방위)', '풍향 QC플래그', '습도(%)', '증기압(hPa)', '이슬점온도(°C)',\n",
       "       '현지기압(hPa)', '해면기압(hPa)', '일조(hr)', '일조 QC플래그', '일사(MJ/m2)', '일사 QC플래그',\n",
       "       '적설(cm)', '3시간신적설(cm)', '전운량(10분위)', '중하층운량(10분위)', '최저운고(100m )',\n",
       "       '시정(10m)', '지면온도(°C)'],\n",
       "      dtype='object')"
      ]
     },
     "execution_count": 50,
     "metadata": {},
     "output_type": "execute_result"
    }
   ],
   "source": [
    "climate_data.columns"
   ]
  },
  {
   "cell_type": "code",
   "execution_count": 51,
   "metadata": {},
   "outputs": [
    {
     "data": {
      "text/plain": [
       "0   -1.9\n",
       "1   -2.1\n",
       "2   -2.7\n",
       "3   -2.3\n",
       "4   -2.0\n",
       "5   -2.3\n",
       "6   -1.9\n",
       "7   -1.8\n",
       "8   -1.2\n",
       "9   -0.2\n",
       "Name: 기온(°C), dtype: float64"
      ]
     },
     "execution_count": 51,
     "metadata": {},
     "output_type": "execute_result"
    }
   ],
   "source": [
    "climate_data[\"기온(°C)\"][0:10]"
   ]
  },
  {
   "cell_type": "code",
   "execution_count": null,
   "metadata": {},
   "outputs": [],
   "source": []
  },
  {
   "cell_type": "code",
   "execution_count": null,
   "metadata": {},
   "outputs": [],
   "source": []
  }
 ],
 "metadata": {
  "kernelspec": {
   "display_name": "ahn",
   "language": "python",
   "name": "python3"
  },
  "language_info": {
   "codemirror_mode": {
    "name": "ipython",
    "version": 3
   },
   "file_extension": ".py",
   "mimetype": "text/x-python",
   "name": "python",
   "nbconvert_exporter": "python",
   "pygments_lexer": "ipython3",
   "version": "3.13.1"
  }
 },
 "nbformat": 4,
 "nbformat_minor": 2
}
